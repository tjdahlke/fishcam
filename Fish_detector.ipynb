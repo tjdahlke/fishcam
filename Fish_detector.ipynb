{
  "nbformat": 4,
  "nbformat_minor": 0,
  "metadata": {
    "colab": {
      "name": "Fish detector",
      "provenance": [],
      "collapsed_sections": [],
      "authorship_tag": "ABX9TyN6H7DI5yZwtgR/VZpZ8FMn",
      "include_colab_link": true
    },
    "kernelspec": {
      "name": "python3",
      "display_name": "Python 3"
    },
    "language_info": {
      "name": "python"
    },
    "accelerator": "GPU"
  },
  "cells": [
    {
      "cell_type": "markdown",
      "metadata": {
        "id": "view-in-github",
        "colab_type": "text"
      },
      "source": [
        "<a href=\"https://colab.research.google.com/github/tjdahlke/fishcam/blob/main/Fish_detector.ipynb\" target=\"_parent\"><img src=\"https://colab.research.google.com/assets/colab-badge.svg\" alt=\"Open In Colab\"/></a>"
      ]
    },
    {
      "cell_type": "markdown",
      "metadata": {
        "id": "V5GiIPONGQpU"
      },
      "source": [
        "# Fish Detector"
      ]
    },
    {
      "cell_type": "markdown",
      "metadata": {
        "id": "uQr3AI8LHCBO"
      },
      "source": [
        "We need to be able to properly detect fish if we are going to track and count them. This means we need to do a few things to have a trained fish detector:\n",
        "\n",
        "    Build a training data set\n",
        "    Train a detector using said data\n",
        "    Deploy model for real time inference / counting upstream + downstream passage.\n"
      ]
    },
    {
      "cell_type": "markdown",
      "metadata": {
        "id": "Oh0270ILHJUd"
      },
      "source": [
        "## Initialize"
      ]
    },
    {
      "cell_type": "code",
      "metadata": {
        "id": "WsESdFxSGO3s"
      },
      "source": [
        "ROOT_PATH = \"/content/drive/MyDrive/fishcam\"\n",
        "RUN_PATH = ROOT_PATH + \"/yolov5\"\n",
        "RAW_DATA = ROOT_PATH + \"/training_data\"\n",
        "WRKING_DATA = ROOT_PATH + \"/working_data\""
      ],
      "execution_count": 1,
      "outputs": []
    },
    {
      "cell_type": "markdown",
      "metadata": {
        "id": "e_4QeeCzHL59"
      },
      "source": [
        "### Get access to data"
      ]
    },
    {
      "cell_type": "code",
      "metadata": {
        "id": "C0QZNIrHGVD8"
      },
      "source": [
        "from google.colab import drive\n",
        "drive.mount('/content/drive')"
      ],
      "execution_count": null,
      "outputs": []
    },
    {
      "cell_type": "code",
      "metadata": {
        "id": "JA2D7Ip4GWyb"
      },
      "source": [
        "!rm -rf /content/sample_data/"
      ],
      "execution_count": 3,
      "outputs": []
    },
    {
      "cell_type": "markdown",
      "metadata": {
        "id": "O3mRGLd6HTPE"
      },
      "source": [
        "### Get YoloV5 repo"
      ]
    },
    {
      "cell_type": "code",
      "metadata": {
        "id": "2n66Wi8pGcm0"
      },
      "source": [
        "# Clone YOLOv5 code\n",
        "%cd $ROOT_PATH\n",
        "!git clone https://github.com/ultralytics/yolov5.git #https://github.com/rkuo2000/yolov5\n",
        "%cd $RUN_PATH\n",
        "%pip install -qr requirements.txt  # install dependencies\n",
        "import torch\n",
        "from IPython.display import Image, clear_output  # to display images\n",
        "clear_output()\n",
        "print(f\"Setup complete. Using torch {torch.__version__} ({torch.cuda.get_device_properties(0).name if torch.cuda.is_available() else 'CPU'})\")"
      ],
      "execution_count": null,
      "outputs": []
    },
    {
      "cell_type": "markdown",
      "metadata": {
        "id": "KcgmVY1bHWaG"
      },
      "source": [
        "### Setup configuration file"
      ]
    },
    {
      "cell_type": "code",
      "metadata": {
        "id": "YwOvMq7QGemM"
      },
      "source": [
        "!echo \"train: $WRKING_DATA/train/images\" > $RUN_PATH/data/alpr.yaml\n",
        "!echo \"val:   $WRKING_DATA/val/images\" >> $RUN_PATH/data/alpr.yaml\n",
        "\n",
        "!echo \"nc : 1\" >> $RUN_PATH/data/alpr.yaml\n",
        "!echo \"names: ['salmon_top']\" >> $RUN_PATH/data/alpr.yaml\n",
        "\n",
        "!cat $RUN_PATH/data/alpr.yaml"
      ],
      "execution_count": null,
      "outputs": []
    },
    {
      "cell_type": "code",
      "metadata": {
        "id": "c0Iqo-qHGkZ9"
      },
      "source": [
        "# Make training dataset\n",
        "!rm -rf $WRKING_DATA/*\n",
        "!mkdir -p $WRKING_DATA/train/images $WRKING_DATA/train/labels\n",
        "!cp -n $RAW_DATA/images/*.jpg $WRKING_DATA/train/images/.\n",
        "!cp -n $RAW_DATA/labels/*.txt $WRKING_DATA/train/labels/.\n",
        "\n",
        "# Make validation dataset\n",
        "!mkdir -p $WRKING_DATA/val/images $WRKING_DATA/val/labels\n",
        "!mv $WRKING_DATA/train/images/*1.jpg $WRKING_DATA/val/images/.\n",
        "!mv $WRKING_DATA/train/labels/*1.txt $WRKING_DATA/val/labels/."
      ],
      "execution_count": 43,
      "outputs": []
    },
    {
      "cell_type": "markdown",
      "metadata": {
        "id": "hLNvOQSmG2kE"
      },
      "source": [
        "## Training"
      ]
    },
    {
      "cell_type": "code",
      "metadata": {
        "id": "1msA8Se3GnKl"
      },
      "source": [
        "# Start weights and biases (optional)\n",
        "%pip install -q wandb\n",
        "import wandb\n",
        "wandb.login()"
      ],
      "execution_count": null,
      "outputs": []
    },
    {
      "cell_type": "code",
      "metadata": {
        "id": "7CtgwzXNGrA7"
      },
      "source": [
        "%cd $RUN_PATH\n",
        "!python train.py --img 320 --batch 24 --epochs 30 --data $RUN_PATH/data/alpr.yaml --cfg $RUN_PATH/models/yolov5s.yaml"
      ],
      "execution_count": null,
      "outputs": []
    },
    {
      "cell_type": "markdown",
      "metadata": {
        "id": "1sYYXUBoG6tV"
      },
      "source": [
        "## Inference"
      ]
    },
    {
      "cell_type": "code",
      "metadata": {
        "id": "6iDT-3WeGveG"
      },
      "source": [
        "!python detect.py --source $WRKING_DATA/val/images --conf 0.5 --img 320 --weights $RUN_PATH/runs/train/exp13/weights/best.pt --save-txt"
      ],
      "execution_count": null,
      "outputs": []
    },
    {
      "cell_type": "markdown",
      "metadata": {
        "id": "WtKXmaAsG0Lk"
      },
      "source": [
        "## Display a sample image result\n",
        "\n"
      ]
    },
    {
      "cell_type": "code",
      "metadata": {
        "id": "1lYR09duGyEM",
        "colab": {
          "base_uri": "https://localhost:8080/",
          "height": 257
        },
        "outputId": "f3fbf325-6b51-4792-f81c-c25e2369e759"
      },
      "source": [
        "from IPython.display import Image\n",
        "Image('/content/drive/MyDrive/fishcam/yolov5/runs/detect/exp/thumb-fishvid_0-0021.jpg')"
      ],
      "execution_count": 10,
      "outputs": [
        {
          "output_type": "execute_result",
          "data": {
            "image/jpeg": "[encoded data removed]",
            "text/plain": [
              "<IPython.core.display.Image object>"
            ]
          },
          "metadata": {
            "tags": []
          },
          "execution_count": 10
        }
      ]
    }
  ]
}